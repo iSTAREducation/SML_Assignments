{
 "cells": [
  {
   "cell_type": "markdown",
   "metadata": {},
   "source": [
    "### Project Description\n",
    "\n",
    "This section provides an overview of the project, including its goals, scope, and context.\n",
    "\n",
    "Write a brief description of your project, including what problem it aims to solve or what question it seeks to answer. You can include information about the domain of the project and its relevance.\n",
    "\n",
    "\n",
    "<iframe srcdoc=\"<textarea style='width: 100%; height: 70px; overflow: hidden;'></textarea>\" style=\"width:100%; height:100px; border:none;\"></iframe>"
   ]
  },
  {
   "cell_type": "markdown",
   "metadata": {},
   "source": [
    "#### Objective\n",
    "\n",
    "Describe the overarching business goals or objectives that this project aims to address. For example, if the project is in the healthcare domain, the business objective might be to improve patient outcomes or reduce costs.\n",
    "<iframe srcdoc=\"<textarea style='width: 100%; height: 50px; overflow: hidden;'></textarea>\" style=\"width:100%; height:100px; border:none;\"></iframe>"
   ]
  },
  {
   "cell_type": "markdown",
   "metadata": {},
   "source": [
    "#### Dataset (Source of data)\n",
    "\n",
    "Provide details about the dataset used in the project. Include information such as where the data comes from, its format (e.g., CSV, Excel), size, and any preprocessing steps performed on it. If applicable, mention any data collection methods or sources.\n",
    "<iframe srcdoc=\"<textarea style='width: 100%; height: 50px; overflow: hidden;'></textarea>\" style=\"width:100%; height:100px; border:none;\"></iframe>"
   ]
  },
  {
   "cell_type": "markdown",
   "metadata": {},
   "source": [
    "#### Target\n",
    "\n",
    "Define the target variable or outcome of interest in the dataset. Explain what you are trying to predict or classify. For example, if the dataset contains information about the credit transactions, the target variable might be whether a transaction is fraud or not.\n",
    "<iframe srcdoc=\"<textarea style='width: 100%; height: 50px; overflow: hidden;'></textarea>\" style=\"width:100%; height:100px; border:none;\"></iframe>"
   ]
  },
  {
   "cell_type": "markdown",
   "metadata": {},
   "source": [
    "#### Expected Outcomes\n",
    "\n",
    "Provide the expected precision and recall for each class. For example:\n",
    "\n",
    "Main Class (e.g., Fraud Cases):\n",
    "- Expected Precision: 90%\n",
    "- Expected Recall: 90%\n",
    "\n",
    "Minor Class (e.g., Non-Fraud Cases):\n",
    "- Expected Precision: 89%\n",
    "- Expected Recall: 91%\n",
    "\n",
    "<iframe srcdoc=\"<textarea style='width: 100%; height: 50px; overflow: hidden;'></textarea>\" style=\"width:100%; height:100px; border:none;\"></iframe>"
   ]
  },
  {
   "cell_type": "markdown",
   "metadata": {},
   "source": [
    "### Step 1: Import all the required libaries here. "
   ]
  },
  {
   "cell_type": "code",
   "execution_count": null,
   "metadata": {},
   "outputs": [],
   "source": [
    "\n",
    "\n",
    "asttokens==2.4.1\n",
    "colorama==0.4.6\n",
    "comm==0.2.2\n",
    "debugpy==1.8.1\n",
    "decorator==5.1.1\n",
    "executing==2.0.1\n",
    "ipykernel==6.29.4\n",
    "ipython==8.23.0\n",
    "jedi==0.19.1\n",
    "jupyter_client==8.6.1\n",
    "jupyter_core==5.7.2\n",
    "matplotlib-inline==0.1.7\n",
    "nest-asyncio==1.6.0\n",
    "numpy==1.26.4\n",
    "packaging==24.0\n",
    "pandas==2.2.2\n",
    "parso==0.8.4\n",
    "platformdirs==4.2.0\n",
    "prompt-toolkit==3.0.43\n",
    "psutil==5.9.8\n",
    "pure-eval==0.2.2\n",
    "Pygments==2.17.2\n",
    "python-dateutil==2.9.0.post0\n",
    "pytz==2024.1\n",
    "pywin32==306\n",
    "pyzmq==26.0.2\n",
    "six==1.16.0\n",
    "stack-data==0.6.3\n",
    "tornado==6.4\n",
    "traitlets==5.14.3\n",
    "tzdata==2024.1\n",
    "wcwidth==0.2.13\n",
    "\n",
    "\n"
   ]
  },
  {
   "cell_type": "markdown",
   "metadata": {},
   "source": [
    "### Step 2: Understand the data. \n",
    "Read the data and print out the size of the dataset. Ensure the data path follows the file architecture outlined in the instructions and README."
   ]
  },
  {
   "cell_type": "code",
   "execution_count": null,
   "metadata": {},
   "outputs": [],
   "source": [
    "\n",
    "\n",
    "\n"
   ]
  },
  {
   "cell_type": "markdown",
   "metadata": {},
   "source": [
    "### Step 3: Data-cleaning and preprocessing. \n",
    "In this section, include the code necessary for data cleaning and preprocessing tasks."
   ]
  },
  {
   "cell_type": "code",
   "execution_count": null,
   "metadata": {},
   "outputs": [],
   "source": [
    "\n",
    "\n",
    "\n"
   ]
  },
  {
   "cell_type": "markdown",
   "metadata": {},
   "source": [
    "### Step 4: Model Development and evaluation. \n",
    "In this section, add the code required to develop the model. This cell should contain all the models you have developed."
   ]
  },
  {
   "cell_type": "code",
   "execution_count": null,
   "metadata": {},
   "outputs": [],
   "source": [
    "\n",
    "\n",
    "\n",
    "\n",
    "\n"
   ]
  },
  {
   "cell_type": "markdown",
   "metadata": {},
   "source": [
    "### Step 5: Model Fine-Tuning and Optimization\n",
    "\n",
    "Refine and select your best model by fine-tuning hyperparameters and optimizing the performance. "
   ]
  },
  {
   "cell_type": "code",
   "execution_count": null,
   "metadata": {},
   "outputs": [],
   "source": [
    "\n",
    "\n",
    "\n",
    "\n"
   ]
  },
  {
   "cell_type": "markdown",
   "metadata": {},
   "source": [
    "### Step 6: Report the results of Final Model.\n",
    "In this step, you'll evaluate your final model using appropriate metrics and Report the final results. \n",
    "\n",
    "\n",
    "\n",
    "\n",
    "\n"
   ]
  },
  {
   "cell_type": "code",
   "execution_count": null,
   "metadata": {},
   "outputs": [],
   "source": [
    "Accuracy Score: 0.48262910798122066\n",
    "Predicted gender: female\n",
    "\n",
    "\n",
    "\n",
    "\n",
    "\n"
   ]
  }
 ],
 "metadata": {
  "kernelspec": {
   "display_name": ".venv",
   "language": "python",
   "name": "python3"
  },
  "language_info": {
   "name": "python",
   "version": "3.12.1"
  }
 },
 "nbformat": 4,
 "nbformat_minor": 2
}
