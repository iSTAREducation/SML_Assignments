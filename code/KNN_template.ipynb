{
 "cells": [
  {
   "cell_type": "markdown",
   "metadata": {},
   "source": [
    "# Classification Project: K-Nearest Neighbors (KNN)\n",
    "\n",
    "---\n",
    "\n",
    "## 1. What is KNN?\n",
    "\n",
    "**K-Nearest Neighbors (KNN)** is a simple, instance-based learning algorithm that classifies data points based on the proximity of their neighbors in feature space. The basic idea is:\n",
    "- The algorithm stores all available data points and classifies new data points based on a majority vote of its **k nearest neighbors**.\n",
    "- The data point is assigned to the class most common among its k nearest neighbors (where k is a positive integer, typically small).\n",
    "\n",
    "#### Key Concepts:\n",
    "- **Instance-based**: The model makes predictions based on specific instances of data.\n",
    "- **Lazy learning**: KNN does not learn a model during the training phase; instead, it computes classifications during the prediction phase.\n",
    "- **Distance metrics**: KNN uses a distance metric (e.g., Euclidean distance) to find the closest neighbors.\n",
    "\n",
    "In practice, KNN is used for both **classification** and **regression** tasks, but here we will focus on classification.\n",
    "\n",
    "---"
   ]
  },
  {
   "cell_type": "markdown",
   "metadata": {},
   "source": [
    "## 2. Implementing the KNN Classifier\n",
    "\n",
    "Use the following steps to build a KNN model:\n",
    "1. Choose a value for **k** (the number of nearest neighbors).\n",
    "2. Fit the model using the training data.\n",
    "3. Make predictions on both training and test data.\n",
    "\n",
    "---"
   ]
  },
  {
   "cell_type": "markdown",
   "metadata": {},
   "source": [
    "## 3. Evaluating the Classifier\n",
    "\n",
    "Once the model is implemented, evaluate its performance using metrics such as **accuracy**, **precision**, **recall**, **F1-score**, etc.\n",
    "\n",
    "### Explanation of Results (add your inputs here)\n",
    "\n",
    "Provide your results and explain the context for what each result means. For example:\n",
    "\n",
    "- **False Positive (FP)** rate = 0.8:  \n",
    "  It means that **80% of predictions labeled as fraud are actually incorrect** (i.e., the model predicted fraud, but it was not fraud).\n",
    "\n",
    "- **Precision** = ?? :  \n",
    "  Write your context. \n",
    "\n",
    "- **Recall** = ?? :  \n",
    "  Write your context. \n",
    "\n",
    "- **Accuracy** = ??:  \n",
    "  Write your context. \n",
    "\n",
    "- **F1-Score** = ?:  \n",
    "  The F1-score is the harmonic mean of precision and recall. It balances the two metrics to provide a single score. \n",
    "  An **F1-score** of ____________ suggests a good balance between precision and recall.\n",
    "\n",
    "---\n"
   ]
  },
  {
   "cell_type": "markdown",
   "metadata": {},
   "source": [
    "\n",
    "## 4. Learning Points (50-100 words)\n",
    "\n",
    "Summarize your findings based on the results of the KNN classifier:\n",
    "- How well did the model perform based on the metrics?\n",
    "- Were there any significant trade-offs between precision and recall?\n",
    "- What would you change (e.g., adjusting the value of k, feature scaling) to improve the model?\n",
    "\n",
    "---\n",
    "\n"
   ]
  }
 ],
 "metadata": {
  "language_info": {
   "name": "python"
  }
 },
 "nbformat": 4,
 "nbformat_minor": 2
}
