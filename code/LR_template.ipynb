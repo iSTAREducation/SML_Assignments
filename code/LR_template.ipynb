{
 "cells": [
  {
   "cell_type": "markdown",
   "metadata": {},
   "source": [
    "# Classification Project: Logistic Regression\n",
    "\n",
    "## 1. What is Logistic Regression?\n",
    "\n",
    "**Logistic Regression** is a supervised learning algorithm used for **binary classification** problems. Despite its name, it is a classification model, not a regression model. The basic idea is:\n",
    "- It predicts the probability that a given data point belongs to a certain class.\n",
    "- The output is transformed using a **sigmoid function** to produce a value between 0 and 1, which can be interpreted as a probability.\n",
    "\n",
    "#### Key Concepts:\n",
    "- **Linear Decision Boundary**: Logistic regression models a linear relationship between the input variables and the log-odds of the outcome.\n",
    "- **Sigmoid Function**: This function maps any real-valued number into the range [0, 1], which allows us to interpret the output as a probability.\n",
    "- **Threshold-based Classification**: If the predicted probability is above a certain threshold (typically 0.5), the model classifies the instance as one class (e.g., positive class), otherwise, it classifies it as the other class.\n",
    "\n",
    "In practice, logistic regression is often used in scenarios like **disease prediction**, **spam detection**, and **fraud detection**.\n",
    "\n",
    "---"
   ]
  },
  {
   "cell_type": "markdown",
   "metadata": {},
   "source": [
    "## 2. Implementing the LR Classifier\n",
    "\n",
    "Use the following steps to build a LR model:\n",
    "1. Train the Logistic Regression model on the training data.\n",
    "2. Use the trained model to make predictions on the test data.\n",
    "3. Evaluate the model using classification metrics (described below).\n",
    "\n",
    "---"
   ]
  },
  {
   "cell_type": "markdown",
   "metadata": {},
   "source": [
    "## 3. Evaluating the Classifier\n",
    "\n",
    "Once the model is implemented, evaluate its performance using metrics such as **accuracy**, **precision**, **recall**, **F1-score**, etc.\n",
    "\n",
    "### Explanation of Results (add your inputs here)\n",
    "\n",
    "Provide your results and explain the context for what each result means. For example:\n",
    "\n",
    "- **False Positive (FP)** rate = 0.8:  \n",
    "  It means that **80% of predictions labeled as fraud are actually incorrect** (i.e., the model predicted fraud, but it was not fraud).\n",
    "\n",
    "- **Precision** = ?? :  \n",
    "  Write your context. \n",
    "\n",
    "- **Recall** = ?? :  \n",
    "  Write your context. \n",
    "\n",
    "- **Accuracy** = ??:  \n",
    "  Write your context. \n",
    "\n",
    "- **F1-Score** = ?:  \n",
    "  The F1-score is the harmonic mean of precision and recall. It balances the two metrics to provide a single score. \n",
    "  An **F1-score** of ____________ suggests a good balance between precision and recall.\n",
    "\n",
    "---\n"
   ]
  },
  {
   "cell_type": "markdown",
   "metadata": {},
   "source": [
    "\n",
    "## 4. Learning Points (50-100 words)\n",
    "\n",
    "Summarize your findings based on the results of the LR classifier:\n",
    "- How well did the model perform based on the metrics?\n",
    "- Were there any significant trade-offs between precision and recall?\n",
    "- How could you improve the model (e.g., adjusting regularization, tuning hyperparameters)?\n",
    "\n",
    "---\n",
    "\n"
   ]
  }
 ],
 "metadata": {
  "language_info": {
   "name": "python"
  }
 },
 "nbformat": 4,
 "nbformat_minor": 2
}
