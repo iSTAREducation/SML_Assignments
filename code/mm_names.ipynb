{
 "cells": [
  {
   "cell_type": "code",
   "execution_count": 23,
   "metadata": {},
   "outputs": [],
   "source": [
    "import pandas as pd\n",
    "\n",
    "filename1 = '../data/sorted females.txt'\n",
    "filename2 = '../data/sorted males.txt'\n",
    "\n",
    "df = pd.DataFrame()\n",
    "with open(filename1, 'r') as file:\n",
    "    fmales = file.readlines()\n",
    "\n",
    "with open(filename2, 'r') as file:\n",
    "    males = file.readlines()\n",
    "\n",
    "female_names = [name.strip().lower().replace(' ', '') for name in fmales]\n",
    "male_names = [name.strip().lower().replace(' ', '') for name in males]\n",
    "\n",
    "df_females = pd.DataFrame({'Name': female_names, 'Gender': 'Female'})\n",
    "df_males = pd.DataFrame({'Name': male_names, 'Gender': 'Male'})\n",
    "\n",
    "df = pd.concat([df_females, df_males], ignore_index=True)\n",
    "df.to_csv('../data/mm_names.csv')"
   ]
  }
 ],
 "metadata": {
  "kernelspec": {
   "display_name": ".venv",
   "language": "python",
   "name": "python3"
  },
  "language_info": {
   "codemirror_mode": {
    "name": "ipython",
    "version": 3
   },
   "file_extension": ".py",
   "mimetype": "text/x-python",
   "name": "python",
   "nbconvert_exporter": "python",
   "pygments_lexer": "ipython3",
   "version": "3.12.1"
  }
 },
 "nbformat": 4,
 "nbformat_minor": 2
}
