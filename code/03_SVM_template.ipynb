{
 "cells": [
  {
   "cell_type": "markdown",
   "metadata": {},
   "source": [
    "# Classification Project: SVM\n",
    "---\n",
    "\n",
    "## 1. What is SVM?\n",
    "\n",
    "**Support Vector Machine (SVM)** is a supervised learning algorithm used for both **classification** and **regression** tasks. However, it is more commonly used in classification problems. The key idea behind SVM is:\n",
    "- It finds a **hyperplane** in an N-dimensional space (where N is the number of features) that best separates the data points into different classes.\n",
    "- The best hyperplane is the one that maximizes the margin between the data points of different classes, and the data points closest to the hyperplane are known as **support vectors**.\n",
    "\n",
    "#### Key Concepts:\n",
    "- **Hyperplane**: A decision boundary that separates different classes.\n",
    "- **Support Vectors**: The data points that lie closest to the hyperplane and are critical in determining the position of the hyperplane.\n",
    "- **Margin**: The distance between the hyperplane and the nearest support vectors. SVM aims to maximize this margin.\n",
    "- **Kernel Trick**: SVM can use different kernel functions (e.g., linear, polynomial, radial basis function (RBF)) to handle non-linear data by transforming it into a higher-dimensional space.\n",
    "\n",
    "SVM is particularly useful in high-dimensional spaces and is effective in cases where the number of features is larger than the number of samples.\n",
    "\n",
    "---"
   ]
  },
  {
   "cell_type": "markdown",
   "metadata": {},
   "source": [
    "## 2. Implementing the SVM Classifier\n",
    "\n",
    "Steps:\n",
    "1. Choose the appropriate **kernel function** (linear, polynomial, RBF, etc.) based on your data.\n",
    "2. Fit the SVM model on the training data.\n",
    "3. Use the trained model to make predictions on the test data.\n",
    "4. Evaluate the model using the appropriate metrics (explained below).\n",
    "\n",
    "---"
   ]
  },
  {
   "cell_type": "markdown",
   "metadata": {},
   "source": [
    "## 3. Evaluating the Classifier\n",
    "\n",
    "Once the model is implemented, evaluate its performance using metrics such as **accuracy**, **precision**, **recall**, **F1-score**, etc.\n",
    "\n",
    "### Explanation of Results (add your inputs here)\n",
    "\n",
    "Provide your results and explain the context for what each result means. For example:\n",
    "\n",
    "- **False Positive (FP)** rate = 0.8:  \n",
    "  Example: It means that **80% of predictions labeled as fraud are actually incorrect** (i.e., the model predicted fraud, but it was not fraud).\n",
    "\n",
    "- **Precision** = ?? :  \n",
    "  Write your context. \n",
    "\n",
    "- **Recall** = ?? :  \n",
    "  Write your context. \n",
    "\n",
    "- **Accuracy** = ??:  \n",
    "  Write your context. \n",
    "\n",
    "- **F1-Score** = ?:  \n",
    "  The F1-score is the harmonic mean of precision and recall. It balances the two metrics to provide a single score. \n",
    "  An **F1-score** of ____________ suggests a good balance between precision and recall.\n",
    "\n",
    "---\n"
   ]
  },
  {
   "cell_type": "markdown",
   "metadata": {},
   "source": [
    "\n",
    "## 4. Learning Points (50-100 words)\n",
    "\n",
    "Summarize your findings based on the results of the KNN classifier:\n",
    "- How well did the model perform based on the metrics?\n",
    "- Were there any significant trade-offs between precision and recall?\n",
    "- Would using a different kernel (e.g., polynomial or RBF) improve the results?\n",
    "\n",
    "---\n",
    "\n"
   ]
  }
 ],
 "metadata": {
  "language_info": {
   "name": "python"
  }
 },
 "nbformat": 4,
 "nbformat_minor": 2
}
